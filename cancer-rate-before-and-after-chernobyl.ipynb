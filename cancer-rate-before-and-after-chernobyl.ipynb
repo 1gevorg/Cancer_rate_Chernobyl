{
 "cells": [
  {
   "cell_type": "markdown",
   "id": "983c6104",
   "metadata": {
    "papermill": {
     "duration": 0.010614,
     "end_time": "2022-12-02T01:10:43.857855",
     "exception": false,
     "start_time": "2022-12-02T01:10:43.847241",
     "status": "completed"
    },
    "tags": []
   },
   "source": [
    "# Changes in the incidence of cancer in Belarus before and after the Chernobyl disaster\n",
    "\n",
    "This is my first EDA notebook.\n",
    "\n",
    "This notebook was made during the blackout in Ukraine\n"
   ]
  },
  {
   "cell_type": "code",
   "execution_count": 1,
   "id": "f1bc314c",
   "metadata": {
    "execution": {
     "iopub.execute_input": "2022-12-02T01:10:43.876313Z",
     "iopub.status.busy": "2022-12-02T01:10:43.874563Z",
     "iopub.status.idle": "2022-12-02T01:10:45.147328Z",
     "shell.execute_reply": "2022-12-02T01:10:45.146054Z"
    },
    "papermill": {
     "duration": 1.284649,
     "end_time": "2022-12-02T01:10:45.149953",
     "exception": false,
     "start_time": "2022-12-02T01:10:43.865304",
     "status": "completed"
    },
    "tags": []
   },
   "outputs": [
    {
     "name": "stdout",
     "output_type": "stream",
     "text": [
      "/kaggle/input/cancer-rate-before-and-after-chernobyl/cancer_before_and_after_Chernobyl_Belarus.csv\n"
     ]
    }
   ],
   "source": [
    "import pandas as pd\n",
    "import numpy as np\n",
    "import matplotlib.pyplot as plt\n",
    "import seaborn as sns\n",
    "\n",
    "plt.style.use('seaborn-darkgrid')\n",
    "\n",
    "\n",
    "import os\n",
    "for dirname, _, filenames in os.walk('/kaggle/input'):\n",
    "    for filename in filenames:\n",
    "        print(os.path.join(dirname, filename))\n",
    "\n",
    "\n",
    "        "
   ]
  },
  {
   "cell_type": "markdown",
   "id": "fd28a879",
   "metadata": {
    "papermill": {
     "duration": 0.006392,
     "end_time": "2022-12-02T01:10:45.163180",
     "exception": false,
     "start_time": "2022-12-02T01:10:45.156788",
     "status": "completed"
    },
    "tags": []
   },
   "source": [
    "First, let's look at the data."
   ]
  },
  {
   "cell_type": "code",
   "execution_count": 2,
   "id": "f8a74d2c",
   "metadata": {
    "execution": {
     "iopub.execute_input": "2022-12-02T01:10:45.178746Z",
     "iopub.status.busy": "2022-12-02T01:10:45.178192Z",
     "iopub.status.idle": "2022-12-02T01:10:45.216952Z",
     "shell.execute_reply": "2022-12-02T01:10:45.215414Z"
    },
    "papermill": {
     "duration": 0.050044,
     "end_time": "2022-12-02T01:10:45.219816",
     "exception": false,
     "start_time": "2022-12-02T01:10:45.169772",
     "status": "completed"
    },
    "tags": []
   },
   "outputs": [
    {
     "data": {
      "text/html": [
       "<div>\n",
       "<style scoped>\n",
       "    .dataframe tbody tr th:only-of-type {\n",
       "        vertical-align: middle;\n",
       "    }\n",
       "\n",
       "    .dataframe tbody tr th {\n",
       "        vertical-align: top;\n",
       "    }\n",
       "\n",
       "    .dataframe thead th {\n",
       "        text-align: right;\n",
       "    }\n",
       "</style>\n",
       "<table border=\"1\" class=\"dataframe\">\n",
       "  <thead>\n",
       "    <tr style=\"text-align: right;\">\n",
       "      <th></th>\n",
       "      <th>year</th>\n",
       "      <th>sex</th>\n",
       "      <th>location</th>\n",
       "      <th>cancer_type</th>\n",
       "      <th>cases</th>\n",
       "    </tr>\n",
       "  </thead>\n",
       "  <tbody>\n",
       "    <tr>\n",
       "      <th>0</th>\n",
       "      <td>1985</td>\n",
       "      <td>women</td>\n",
       "      <td>Gomel</td>\n",
       "      <td>skin</td>\n",
       "      <td>17.3</td>\n",
       "    </tr>\n",
       "    <tr>\n",
       "      <th>1</th>\n",
       "      <td>1985</td>\n",
       "      <td>women</td>\n",
       "      <td>Mogilev</td>\n",
       "      <td>skin</td>\n",
       "      <td>16.8</td>\n",
       "    </tr>\n",
       "    <tr>\n",
       "      <th>2</th>\n",
       "      <td>1986</td>\n",
       "      <td>women</td>\n",
       "      <td>Gomel</td>\n",
       "      <td>skin</td>\n",
       "      <td>15.6</td>\n",
       "    </tr>\n",
       "    <tr>\n",
       "      <th>3</th>\n",
       "      <td>1986</td>\n",
       "      <td>women</td>\n",
       "      <td>Mogilev</td>\n",
       "      <td>skin</td>\n",
       "      <td>18.3</td>\n",
       "    </tr>\n",
       "    <tr>\n",
       "      <th>4</th>\n",
       "      <td>1985</td>\n",
       "      <td>women</td>\n",
       "      <td>Belarus</td>\n",
       "      <td>skin</td>\n",
       "      <td>14.9</td>\n",
       "    </tr>\n",
       "    <tr>\n",
       "      <th>5</th>\n",
       "      <td>1986</td>\n",
       "      <td>women</td>\n",
       "      <td>Belarus</td>\n",
       "      <td>skin</td>\n",
       "      <td>16.5</td>\n",
       "    </tr>\n",
       "    <tr>\n",
       "      <th>6</th>\n",
       "      <td>1985</td>\n",
       "      <td>men</td>\n",
       "      <td>Gomel</td>\n",
       "      <td>skin</td>\n",
       "      <td>19.9</td>\n",
       "    </tr>\n",
       "    <tr>\n",
       "      <th>7</th>\n",
       "      <td>1985</td>\n",
       "      <td>men</td>\n",
       "      <td>Mogilev</td>\n",
       "      <td>skin</td>\n",
       "      <td>20.5</td>\n",
       "    </tr>\n",
       "    <tr>\n",
       "      <th>8</th>\n",
       "      <td>1986</td>\n",
       "      <td>men</td>\n",
       "      <td>Gomel</td>\n",
       "      <td>skin</td>\n",
       "      <td>20.1</td>\n",
       "    </tr>\n",
       "    <tr>\n",
       "      <th>9</th>\n",
       "      <td>1986</td>\n",
       "      <td>men</td>\n",
       "      <td>Mogilev</td>\n",
       "      <td>skin</td>\n",
       "      <td>22.4</td>\n",
       "    </tr>\n",
       "  </tbody>\n",
       "</table>\n",
       "</div>"
      ],
      "text/plain": [
       "   year    sex location cancer_type  cases\n",
       "0  1985  women    Gomel        skin   17.3\n",
       "1  1985  women  Mogilev        skin   16.8\n",
       "2  1986  women    Gomel        skin   15.6\n",
       "3  1986  women  Mogilev        skin   18.3\n",
       "4  1985  women  Belarus        skin   14.9\n",
       "5  1986  women  Belarus        skin   16.5\n",
       "6  1985    men    Gomel        skin   19.9\n",
       "7  1985    men  Mogilev        skin   20.5\n",
       "8  1986    men    Gomel        skin   20.1\n",
       "9  1986    men  Mogilev        skin   22.4"
      ]
     },
     "execution_count": 2,
     "metadata": {},
     "output_type": "execute_result"
    }
   ],
   "source": [
    "df_cancer = pd.read_csv('/kaggle/input/cancer-rate-before-and-after-chernobyl/cancer_before_and_after_Chernobyl_Belarus.csv')\n",
    "df_cancer.head(10)"
   ]
  },
  {
   "cell_type": "code",
   "execution_count": 3,
   "id": "70e7e9ff",
   "metadata": {
    "execution": {
     "iopub.execute_input": "2022-12-02T01:10:45.239987Z",
     "iopub.status.busy": "2022-12-02T01:10:45.238372Z",
     "iopub.status.idle": "2022-12-02T01:10:45.248670Z",
     "shell.execute_reply": "2022-12-02T01:10:45.247049Z"
    },
    "papermill": {
     "duration": 0.024489,
     "end_time": "2022-12-02T01:10:45.251775",
     "exception": false,
     "start_time": "2022-12-02T01:10:45.227286",
     "status": "completed"
    },
    "tags": []
   },
   "outputs": [
    {
     "data": {
      "text/plain": [
       "(84, 5)"
      ]
     },
     "execution_count": 3,
     "metadata": {},
     "output_type": "execute_result"
    }
   ],
   "source": [
    "df_cancer.shape\n"
   ]
  },
  {
   "cell_type": "code",
   "execution_count": 4,
   "id": "43075ad2",
   "metadata": {
    "execution": {
     "iopub.execute_input": "2022-12-02T01:10:45.271720Z",
     "iopub.status.busy": "2022-12-02T01:10:45.271039Z",
     "iopub.status.idle": "2022-12-02T01:10:45.312280Z",
     "shell.execute_reply": "2022-12-02T01:10:45.310283Z"
    },
    "papermill": {
     "duration": 0.056441,
     "end_time": "2022-12-02T01:10:45.317788",
     "exception": false,
     "start_time": "2022-12-02T01:10:45.261347",
     "status": "completed"
    },
    "tags": []
   },
   "outputs": [
    {
     "name": "stdout",
     "output_type": "stream",
     "text": [
      "<class 'pandas.core.frame.DataFrame'>\n",
      "RangeIndex: 84 entries, 0 to 83\n",
      "Data columns (total 5 columns):\n",
      " #   Column       Non-Null Count  Dtype  \n",
      "---  ------       --------------  -----  \n",
      " 0   year         84 non-null     int64  \n",
      " 1   sex          84 non-null     object \n",
      " 2   location     84 non-null     object \n",
      " 3   cancer_type  84 non-null     object \n",
      " 4   cases        84 non-null     float64\n",
      "dtypes: float64(1), int64(1), object(3)\n",
      "memory usage: 3.4+ KB\n"
     ]
    }
   ],
   "source": [
    "df_cancer.info()"
   ]
  },
  {
   "cell_type": "code",
   "execution_count": 5,
   "id": "1ce27e6b",
   "metadata": {
    "execution": {
     "iopub.execute_input": "2022-12-02T01:10:45.341680Z",
     "iopub.status.busy": "2022-12-02T01:10:45.341044Z",
     "iopub.status.idle": "2022-12-02T01:10:45.349225Z",
     "shell.execute_reply": "2022-12-02T01:10:45.347641Z"
    },
    "papermill": {
     "duration": 0.0262,
     "end_time": "2022-12-02T01:10:45.351897",
     "exception": false,
     "start_time": "2022-12-02T01:10:45.325697",
     "status": "completed"
    },
    "tags": []
   },
   "outputs": [],
   "source": [
    "df_cancer['year'] = np.where((df_cancer.year == 1985), '1977-1985', '1986-1994')"
   ]
  },
  {
   "cell_type": "code",
   "execution_count": 6,
   "id": "5631d577",
   "metadata": {
    "execution": {
     "iopub.execute_input": "2022-12-02T01:10:45.371113Z",
     "iopub.status.busy": "2022-12-02T01:10:45.370618Z",
     "iopub.status.idle": "2022-12-02T01:10:45.387898Z",
     "shell.execute_reply": "2022-12-02T01:10:45.386818Z"
    },
    "papermill": {
     "duration": 0.028477,
     "end_time": "2022-12-02T01:10:45.389996",
     "exception": false,
     "start_time": "2022-12-02T01:10:45.361519",
     "status": "completed"
    },
    "tags": []
   },
   "outputs": [
    {
     "data": {
      "text/html": [
       "<div>\n",
       "<style scoped>\n",
       "    .dataframe tbody tr th:only-of-type {\n",
       "        vertical-align: middle;\n",
       "    }\n",
       "\n",
       "    .dataframe tbody tr th {\n",
       "        vertical-align: top;\n",
       "    }\n",
       "\n",
       "    .dataframe thead th {\n",
       "        text-align: right;\n",
       "    }\n",
       "</style>\n",
       "<table border=\"1\" class=\"dataframe\">\n",
       "  <thead>\n",
       "    <tr style=\"text-align: right;\">\n",
       "      <th></th>\n",
       "      <th></th>\n",
       "      <th>sex</th>\n",
       "    </tr>\n",
       "    <tr>\n",
       "      <th>year</th>\n",
       "      <th>sex</th>\n",
       "      <th></th>\n",
       "    </tr>\n",
       "  </thead>\n",
       "  <tbody>\n",
       "    <tr>\n",
       "      <th rowspan=\"2\" valign=\"top\">1977-1985</th>\n",
       "      <th>men</th>\n",
       "      <td>21</td>\n",
       "    </tr>\n",
       "    <tr>\n",
       "      <th>women</th>\n",
       "      <td>21</td>\n",
       "    </tr>\n",
       "    <tr>\n",
       "      <th rowspan=\"2\" valign=\"top\">1986-1994</th>\n",
       "      <th>men</th>\n",
       "      <td>21</td>\n",
       "    </tr>\n",
       "    <tr>\n",
       "      <th>women</th>\n",
       "      <td>21</td>\n",
       "    </tr>\n",
       "  </tbody>\n",
       "</table>\n",
       "</div>"
      ],
      "text/plain": [
       "                 sex\n",
       "year      sex       \n",
       "1977-1985 men     21\n",
       "          women   21\n",
       "1986-1994 men     21\n",
       "          women   21"
      ]
     },
     "execution_count": 6,
     "metadata": {},
     "output_type": "execute_result"
    }
   ],
   "source": [
    "df_cancer.groupby(['year', 'sex']).agg({'sex': 'count'})"
   ]
  },
  {
   "cell_type": "code",
   "execution_count": 7,
   "id": "dec707fb",
   "metadata": {
    "execution": {
     "iopub.execute_input": "2022-12-02T01:10:45.407693Z",
     "iopub.status.busy": "2022-12-02T01:10:45.407227Z",
     "iopub.status.idle": "2022-12-02T01:10:45.424170Z",
     "shell.execute_reply": "2022-12-02T01:10:45.422634Z"
    },
    "papermill": {
     "duration": 0.029583,
     "end_time": "2022-12-02T01:10:45.427273",
     "exception": false,
     "start_time": "2022-12-02T01:10:45.397690",
     "status": "completed"
    },
    "tags": []
   },
   "outputs": [
    {
     "data": {
      "text/html": [
       "<div>\n",
       "<style scoped>\n",
       "    .dataframe tbody tr th:only-of-type {\n",
       "        vertical-align: middle;\n",
       "    }\n",
       "\n",
       "    .dataframe tbody tr th {\n",
       "        vertical-align: top;\n",
       "    }\n",
       "\n",
       "    .dataframe thead th {\n",
       "        text-align: right;\n",
       "    }\n",
       "</style>\n",
       "<table border=\"1\" class=\"dataframe\">\n",
       "  <thead>\n",
       "    <tr style=\"text-align: right;\">\n",
       "      <th></th>\n",
       "      <th></th>\n",
       "      <th>location</th>\n",
       "    </tr>\n",
       "    <tr>\n",
       "      <th>year</th>\n",
       "      <th>location</th>\n",
       "      <th></th>\n",
       "    </tr>\n",
       "  </thead>\n",
       "  <tbody>\n",
       "    <tr>\n",
       "      <th rowspan=\"3\" valign=\"top\">1977-1985</th>\n",
       "      <th>Belarus</th>\n",
       "      <td>14</td>\n",
       "    </tr>\n",
       "    <tr>\n",
       "      <th>Gomel</th>\n",
       "      <td>14</td>\n",
       "    </tr>\n",
       "    <tr>\n",
       "      <th>Mogilev</th>\n",
       "      <td>14</td>\n",
       "    </tr>\n",
       "    <tr>\n",
       "      <th rowspan=\"3\" valign=\"top\">1986-1994</th>\n",
       "      <th>Belarus</th>\n",
       "      <td>14</td>\n",
       "    </tr>\n",
       "    <tr>\n",
       "      <th>Gomel</th>\n",
       "      <td>14</td>\n",
       "    </tr>\n",
       "    <tr>\n",
       "      <th>Mogilev</th>\n",
       "      <td>14</td>\n",
       "    </tr>\n",
       "  </tbody>\n",
       "</table>\n",
       "</div>"
      ],
      "text/plain": [
       "                    location\n",
       "year      location          \n",
       "1977-1985 Belarus         14\n",
       "          Gomel           14\n",
       "          Mogilev         14\n",
       "1986-1994 Belarus         14\n",
       "          Gomel           14\n",
       "          Mogilev         14"
      ]
     },
     "execution_count": 7,
     "metadata": {},
     "output_type": "execute_result"
    }
   ],
   "source": [
    "df_cancer.groupby(['year', 'location']).agg({'location': 'count'})"
   ]
  },
  {
   "cell_type": "code",
   "execution_count": 8,
   "id": "0881f2f1",
   "metadata": {
    "execution": {
     "iopub.execute_input": "2022-12-02T01:10:45.445824Z",
     "iopub.status.busy": "2022-12-02T01:10:45.444887Z",
     "iopub.status.idle": "2022-12-02T01:10:45.459033Z",
     "shell.execute_reply": "2022-12-02T01:10:45.458169Z"
    },
    "papermill": {
     "duration": 0.025909,
     "end_time": "2022-12-02T01:10:45.461463",
     "exception": false,
     "start_time": "2022-12-02T01:10:45.435554",
     "status": "completed"
    },
    "tags": []
   },
   "outputs": [
    {
     "data": {
      "text/html": [
       "<div>\n",
       "<style scoped>\n",
       "    .dataframe tbody tr th:only-of-type {\n",
       "        vertical-align: middle;\n",
       "    }\n",
       "\n",
       "    .dataframe tbody tr th {\n",
       "        vertical-align: top;\n",
       "    }\n",
       "\n",
       "    .dataframe thead th {\n",
       "        text-align: right;\n",
       "    }\n",
       "</style>\n",
       "<table border=\"1\" class=\"dataframe\">\n",
       "  <thead>\n",
       "    <tr style=\"text-align: right;\">\n",
       "      <th></th>\n",
       "      <th></th>\n",
       "      <th>cancer_type</th>\n",
       "    </tr>\n",
       "    <tr>\n",
       "      <th>year</th>\n",
       "      <th>cancer_type</th>\n",
       "      <th></th>\n",
       "    </tr>\n",
       "  </thead>\n",
       "  <tbody>\n",
       "    <tr>\n",
       "      <th rowspan=\"7\" valign=\"top\">1977-1985</th>\n",
       "      <th>colon</th>\n",
       "      <td>6</td>\n",
       "    </tr>\n",
       "    <tr>\n",
       "      <th>kidney</th>\n",
       "      <td>6</td>\n",
       "    </tr>\n",
       "    <tr>\n",
       "      <th>lungs</th>\n",
       "      <td>6</td>\n",
       "    </tr>\n",
       "    <tr>\n",
       "      <th>pancreas</th>\n",
       "      <td>6</td>\n",
       "    </tr>\n",
       "    <tr>\n",
       "      <th>rectum</th>\n",
       "      <td>6</td>\n",
       "    </tr>\n",
       "    <tr>\n",
       "      <th>skin</th>\n",
       "      <td>6</td>\n",
       "    </tr>\n",
       "    <tr>\n",
       "      <th>thyroid</th>\n",
       "      <td>6</td>\n",
       "    </tr>\n",
       "    <tr>\n",
       "      <th rowspan=\"7\" valign=\"top\">1986-1994</th>\n",
       "      <th>colon</th>\n",
       "      <td>6</td>\n",
       "    </tr>\n",
       "    <tr>\n",
       "      <th>kidney</th>\n",
       "      <td>6</td>\n",
       "    </tr>\n",
       "    <tr>\n",
       "      <th>lungs</th>\n",
       "      <td>6</td>\n",
       "    </tr>\n",
       "    <tr>\n",
       "      <th>pancreas</th>\n",
       "      <td>6</td>\n",
       "    </tr>\n",
       "    <tr>\n",
       "      <th>rectum</th>\n",
       "      <td>6</td>\n",
       "    </tr>\n",
       "    <tr>\n",
       "      <th>skin</th>\n",
       "      <td>6</td>\n",
       "    </tr>\n",
       "    <tr>\n",
       "      <th>thyroid</th>\n",
       "      <td>6</td>\n",
       "    </tr>\n",
       "  </tbody>\n",
       "</table>\n",
       "</div>"
      ],
      "text/plain": [
       "                       cancer_type\n",
       "year      cancer_type             \n",
       "1977-1985 colon                  6\n",
       "          kidney                 6\n",
       "          lungs                  6\n",
       "          pancreas               6\n",
       "          rectum                 6\n",
       "          skin                   6\n",
       "          thyroid                6\n",
       "1986-1994 colon                  6\n",
       "          kidney                 6\n",
       "          lungs                  6\n",
       "          pancreas               6\n",
       "          rectum                 6\n",
       "          skin                   6\n",
       "          thyroid                6"
      ]
     },
     "execution_count": 8,
     "metadata": {},
     "output_type": "execute_result"
    }
   ],
   "source": [
    "df_cancer.groupby(['year', 'cancer_type']).agg({'cancer_type': 'count'})"
   ]
  },
  {
   "cell_type": "markdown",
   "id": "3c9ca30e",
   "metadata": {
    "papermill": {
     "duration": 0.007898,
     "end_time": "2022-12-02T01:10:45.477699",
     "exception": false,
     "start_time": "2022-12-02T01:10:45.469801",
     "status": "completed"
    },
    "tags": []
   },
   "source": [
    "Let's look at the change in cases of morbidity before and after the Chernobyl accident.\n",
    "\n",
    "The cases are provided per 100.000 people."
   ]
  },
  {
   "cell_type": "code",
   "execution_count": 9,
   "id": "d4dd4e22",
   "metadata": {
    "execution": {
     "iopub.execute_input": "2022-12-02T01:10:45.495851Z",
     "iopub.status.busy": "2022-12-02T01:10:45.495373Z",
     "iopub.status.idle": "2022-12-02T01:10:45.743743Z",
     "shell.execute_reply": "2022-12-02T01:10:45.742861Z"
    },
    "papermill": {
     "duration": 0.260371,
     "end_time": "2022-12-02T01:10:45.746064",
     "exception": false,
     "start_time": "2022-12-02T01:10:45.485693",
     "status": "completed"
    },
    "tags": []
   },
   "outputs": [
    {
     "data": {
      "image/png": "[encoded data removed]",
      "text/plain": [
       "<Figure size 432x648 with 1 Axes>"
      ]
     },
     "metadata": {},
     "output_type": "display_data"
    }
   ],
   "source": [
    "plt.figure(figsize=(6, 9))\n",
    "sns.barplot(data=df_cancer, x='year', y='cases', alpha=.8, estimator=np.sum, ci=None)\n",
    "plt.title('Change in the number of cases by year', fontsize=14)\n",
    "plt.ylabel('cases', fontsize=12)\n",
    "plt.xlabel('years', fontsize=12)\n",
    "plt.tick_params(labelsize=12)"
   ]
  },
  {
   "cell_type": "code",
   "execution_count": 10,
   "id": "d97be9cb",
   "metadata": {
    "execution": {
     "iopub.execute_input": "2022-12-02T01:10:45.765247Z",
     "iopub.status.busy": "2022-12-02T01:10:45.764833Z",
     "iopub.status.idle": "2022-12-02T01:10:45.775598Z",
     "shell.execute_reply": "2022-12-02T01:10:45.774666Z"
    },
    "papermill": {
     "duration": 0.024135,
     "end_time": "2022-12-02T01:10:45.778474",
     "exception": false,
     "start_time": "2022-12-02T01:10:45.754339",
     "status": "completed"
    },
    "tags": []
   },
   "outputs": [
    {
     "name": "stdout",
     "output_type": "stream",
     "text": [
      "The percentage increase in the number of cases is: 38.27%\n"
     ]
    }
   ],
   "source": [
    "before, after = df_cancer.\\\n",
    "    groupby('year')['cases']\\\n",
    "    .sum()\\\n",
    "    .reset_index()\\\n",
    "    .sort_values('year', ascending=True)['cases']\n",
    "\n",
    "print(f'The percentage increase in the number of cases is: {round((after - before) / before * 100, 2)}%')"
   ]
  },
  {
   "cell_type": "markdown",
   "id": "a3f95f68",
   "metadata": {
    "papermill": {
     "duration": 0.008173,
     "end_time": "2022-12-02T01:10:45.795274",
     "exception": false,
     "start_time": "2022-12-02T01:10:45.787101",
     "status": "completed"
    },
    "tags": []
   },
   "source": [
    "We are seeing a significant increase in the incidence.\n",
    "\n",
    "Сheck the change depending on gender and years."
   ]
  },
  {
   "cell_type": "code",
   "execution_count": 11,
   "id": "807bb51f",
   "metadata": {
    "execution": {
     "iopub.execute_input": "2022-12-02T01:10:45.815046Z",
     "iopub.status.busy": "2022-12-02T01:10:45.813716Z",
     "iopub.status.idle": "2022-12-02T01:10:46.058310Z",
     "shell.execute_reply": "2022-12-02T01:10:46.056735Z"
    },
    "papermill": {
     "duration": 0.257167,
     "end_time": "2022-12-02T01:10:46.061007",
     "exception": false,
     "start_time": "2022-12-02T01:10:45.803840",
     "status": "completed"
    },
    "tags": []
   },
   "outputs": [
    {
     "data": {
      "image/png": "[encoded data removed]",
      "text/plain": [
       "<Figure size 648x432 with 1 Axes>"
      ]
     },
     "metadata": {},
     "output_type": "display_data"
    }
   ],
   "source": [
    "plt.figure(figsize=(9, 6))\n",
    "sns.barplot(data=df_cancer, x='sex', y='cases', alpha=.8, estimator=np.sum, hue='year', ci=None)\n",
    "plt.title('Change in the number of cases by sex and years', fontsize=14)\n",
    "plt.ylabel('cases', fontsize=12)\n",
    "plt.xlabel('sex', fontsize=12)\n",
    "plt.legend(fontsize='large')\n",
    "plt.tick_params(labelsize=12)"
   ]
  },
  {
   "cell_type": "code",
   "execution_count": 12,
   "id": "98fc700d",
   "metadata": {
    "execution": {
     "iopub.execute_input": "2022-12-02T01:10:46.081171Z",
     "iopub.status.busy": "2022-12-02T01:10:46.080719Z",
     "iopub.status.idle": "2022-12-02T01:10:46.097597Z",
     "shell.execute_reply": "2022-12-02T01:10:46.096329Z"
    },
    "papermill": {
     "duration": 0.030074,
     "end_time": "2022-12-02T01:10:46.100213",
     "exception": false,
     "start_time": "2022-12-02T01:10:46.070139",
     "status": "completed"
    },
    "tags": []
   },
   "outputs": [
    {
     "name": "stdout",
     "output_type": "stream",
     "text": [
      "The percentage increase in the number of diseases in men is: 41.92%\n",
      "The percentage increase in the number of diseases in women is: 29.72%\n"
     ]
    }
   ],
   "source": [
    "before_men, after_men =df_cancer[df_cancer['sex'] == 'men']\\\n",
    "    .groupby('year')['cases']\\\n",
    "    .sum()\\\n",
    "    .reset_index()\\\n",
    "    .sort_values('year',axis=0, ascending=True)['cases']\n",
    "print(f'The percentage increase in the number of diseases in men is: {round((after_men - before_men) / before_men * 100, 2)}%')\n",
    "\n",
    "before_women, after_women =df_cancer[df_cancer['sex'] == 'women']\\\n",
    "    .groupby('year')['cases']\\\n",
    "    .sum()\\\n",
    "    .reset_index()\\\n",
    "    .sort_values('year',axis=0, ascending=True)['cases']\n",
    "print(f'The percentage increase in the number of diseases in women is: {round((after_women - before_women) / before_women * 100, 2)}%')"
   ]
  },
  {
   "cell_type": "markdown",
   "id": "9e50fd5f",
   "metadata": {
    "papermill": {
     "duration": 0.008718,
     "end_time": "2022-12-02T01:10:46.117766",
     "exception": false,
     "start_time": "2022-12-02T01:10:46.109048",
     "status": "completed"
    },
    "tags": []
   },
   "source": [
    "Men are more prone to getting cancer than women.\n",
    "\n",
    "Based on the data, the percentage increase in the number of cases in men is greater than in women."
   ]
  },
  {
   "cell_type": "markdown",
   "id": "d404597c",
   "metadata": {
    "papermill": {
     "duration": 0.008493,
     "end_time": "2022-12-02T01:10:46.135259",
     "exception": false,
     "start_time": "2022-12-02T01:10:46.126766",
     "status": "completed"
    },
    "tags": []
   },
   "source": [
    "Change in the number of cases depending on the type of cancer."
   ]
  },
  {
   "cell_type": "code",
   "execution_count": 13,
   "id": "aa2f6526",
   "metadata": {
    "execution": {
     "iopub.execute_input": "2022-12-02T01:10:46.154837Z",
     "iopub.status.busy": "2022-12-02T01:10:46.154366Z",
     "iopub.status.idle": "2022-12-02T01:10:46.457771Z",
     "shell.execute_reply": "2022-12-02T01:10:46.456502Z"
    },
    "papermill": {
     "duration": 0.31736,
     "end_time": "2022-12-02T01:10:46.461234",
     "exception": false,
     "start_time": "2022-12-02T01:10:46.143874",
     "status": "completed"
    },
    "tags": []
   },
   "outputs": [
    {
     "data": {
      "image/png": "[encoded data removed]",
      "text/plain": [
       "<Figure size 648x432 with 1 Axes>"
      ]
     },
     "metadata": {},
     "output_type": "display_data"
    }
   ],
   "source": [
    "fig = plt.figure(figsize=(9, 6))\n",
    "sns.barplot(data=df_cancer, x=\"cancer_type\", y=\"cases\", hue=\"year\", alpha=.8, estimator=np.sum, ci=None, )\n",
    "plt.title('Change in the number of cases depending on the type of cancer', fontsize=14)\n",
    "plt.ylabel('cases', fontsize=12)\n",
    "plt.legend(fontsize='large')\n",
    "plt.tick_params(labelsize=12)"
   ]
  },
  {
   "cell_type": "code",
   "execution_count": 14,
   "id": "22038f1d",
   "metadata": {
    "execution": {
     "iopub.execute_input": "2022-12-02T01:10:46.483363Z",
     "iopub.status.busy": "2022-12-02T01:10:46.482419Z",
     "iopub.status.idle": "2022-12-02T01:10:46.515603Z",
     "shell.execute_reply": "2022-12-02T01:10:46.514642Z"
    },
    "papermill": {
     "duration": 0.046722,
     "end_time": "2022-12-02T01:10:46.517860",
     "exception": false,
     "start_time": "2022-12-02T01:10:46.471138",
     "status": "completed"
    },
    "tags": []
   },
   "outputs": [
    {
     "data": {
      "text/html": [
       "<div>\n",
       "<style scoped>\n",
       "    .dataframe tbody tr th:only-of-type {\n",
       "        vertical-align: middle;\n",
       "    }\n",
       "\n",
       "    .dataframe tbody tr th {\n",
       "        vertical-align: top;\n",
       "    }\n",
       "\n",
       "    .dataframe thead th {\n",
       "        text-align: right;\n",
       "    }\n",
       "</style>\n",
       "<table border=\"1\" class=\"dataframe\">\n",
       "  <thead>\n",
       "    <tr style=\"text-align: right;\">\n",
       "      <th></th>\n",
       "      <th>cancer_type</th>\n",
       "      <th>changes</th>\n",
       "    </tr>\n",
       "  </thead>\n",
       "  <tbody>\n",
       "    <tr>\n",
       "      <th>1</th>\n",
       "      <td>thyroid</td>\n",
       "      <td>209.38</td>\n",
       "    </tr>\n",
       "    <tr>\n",
       "      <th>6</th>\n",
       "      <td>kidney</td>\n",
       "      <td>109.66</td>\n",
       "    </tr>\n",
       "    <tr>\n",
       "      <th>4</th>\n",
       "      <td>colon</td>\n",
       "      <td>50.31</td>\n",
       "    </tr>\n",
       "    <tr>\n",
       "      <th>2</th>\n",
       "      <td>lungs</td>\n",
       "      <td>46.15</td>\n",
       "    </tr>\n",
       "    <tr>\n",
       "      <th>5</th>\n",
       "      <td>rectum</td>\n",
       "      <td>37.68</td>\n",
       "    </tr>\n",
       "    <tr>\n",
       "      <th>3</th>\n",
       "      <td>pancreas</td>\n",
       "      <td>30.00</td>\n",
       "    </tr>\n",
       "    <tr>\n",
       "      <th>0</th>\n",
       "      <td>skin</td>\n",
       "      <td>6.19</td>\n",
       "    </tr>\n",
       "  </tbody>\n",
       "</table>\n",
       "</div>"
      ],
      "text/plain": [
       "  cancer_type  changes\n",
       "1     thyroid   209.38\n",
       "6      kidney   109.66\n",
       "4       colon    50.31\n",
       "2       lungs    46.15\n",
       "5      rectum    37.68\n",
       "3    pancreas    30.00\n",
       "0        skin     6.19"
      ]
     },
     "execution_count": 14,
     "metadata": {},
     "output_type": "execute_result"
    }
   ],
   "source": [
    "cancer_type = df_cancer['cancer_type'].unique()\n",
    "cancer_changes = []\n",
    "for type in df_cancer['cancer_type'].unique():\n",
    "    before, after =df_cancer[df_cancer['cancer_type'] == type]\\\n",
    "        .groupby('year')['cases']\\\n",
    "        .sum()\\\n",
    "        .reset_index()\\\n",
    "        .sort_values(by='year')['cases']\n",
    "    cancer_changes.append(round((after - before) / before * 100, 2))\n",
    "changes_by_type = pd.DataFrame(list(zip(cancer_type, cancer_changes)), columns=['cancer_type', 'changes']).sort_values(by='changes',axis=0,ascending=False)\n",
    "changes_by_type"
   ]
  },
  {
   "cell_type": "code",
   "execution_count": 15,
   "id": "4c3cfe9e",
   "metadata": {
    "execution": {
     "iopub.execute_input": "2022-12-02T01:10:46.539274Z",
     "iopub.status.busy": "2022-12-02T01:10:46.538822Z",
     "iopub.status.idle": "2022-12-02T01:10:47.076524Z",
     "shell.execute_reply": "2022-12-02T01:10:47.074993Z"
    },
    "papermill": {
     "duration": 0.551836,
     "end_time": "2022-12-02T01:10:47.079388",
     "exception": false,
     "start_time": "2022-12-02T01:10:46.527552",
     "status": "completed"
    },
    "tags": []
   },
   "outputs": [
    {
     "data": {
      "text/plain": [
       "Text(0.5, 0, '')"
      ]
     },
     "execution_count": 15,
     "metadata": {},
     "output_type": "execute_result"
    },
    {
     "data": {
      "image/png": "[encoded data removed]",
      "text/plain": [
       "<Figure size 648x648 with 2 Axes>"
      ]
     },
     "metadata": {},
     "output_type": "display_data"
    }
   ],
   "source": [
    "fig, ax = plt.subplots(1, 2, sharey=True, figsize=(9, 9))\n",
    "sns.lineplot(\n",
    "    data=df_cancer[df_cancer['sex'] == 'men'],\n",
    "    x=\"year\", y=\"cases\", hue='cancer_type',\n",
    "    estimator=np.sum, alpha=.7, ci=None, legend=False, ax=ax[0])\n",
    "ax[0].set_title('Сhange in cancer type in men', fontsize=14)\n",
    "ax[0].tick_params(labelsize=12)\n",
    "ax[0].set_xlabel(None)\n",
    "sns.lineplot(\n",
    "    data=df_cancer[df_cancer['sex'] == 'women'],\n",
    "    x=\"year\", y=\"cases\", hue='cancer_type',\n",
    "    estimator=np.sum, ci=None, ax=ax[1])\n",
    "ax[1].set_title('Сhange in cancer type in women', fontsize=14)\n",
    "ax[1].legend(loc=(1, 0), fontsize='large')\n",
    "ax[1].tick_params(labelsize=12)\n",
    "ax[1].set_xlabel(None)"
   ]
  },
  {
   "cell_type": "code",
   "execution_count": 16,
   "id": "b8fa6e10",
   "metadata": {
    "execution": {
     "iopub.execute_input": "2022-12-02T01:10:47.102877Z",
     "iopub.status.busy": "2022-12-02T01:10:47.102401Z",
     "iopub.status.idle": "2022-12-02T01:10:47.167591Z",
     "shell.execute_reply": "2022-12-02T01:10:47.166089Z"
    },
    "papermill": {
     "duration": 0.080235,
     "end_time": "2022-12-02T01:10:47.170332",
     "exception": false,
     "start_time": "2022-12-02T01:10:47.090097",
     "status": "completed"
    },
    "tags": []
   },
   "outputs": [
    {
     "data": {
      "text/html": [
       "<div>\n",
       "<style scoped>\n",
       "    .dataframe tbody tr th:only-of-type {\n",
       "        vertical-align: middle;\n",
       "    }\n",
       "\n",
       "    .dataframe tbody tr th {\n",
       "        vertical-align: top;\n",
       "    }\n",
       "\n",
       "    .dataframe thead th {\n",
       "        text-align: right;\n",
       "    }\n",
       "</style>\n",
       "<table border=\"1\" class=\"dataframe\">\n",
       "  <thead>\n",
       "    <tr style=\"text-align: right;\">\n",
       "      <th></th>\n",
       "      <th>cancer_type</th>\n",
       "      <th>changes_men</th>\n",
       "      <th>changes_women</th>\n",
       "    </tr>\n",
       "  </thead>\n",
       "  <tbody>\n",
       "    <tr>\n",
       "      <th>1</th>\n",
       "      <td>thyroid</td>\n",
       "      <td>150.00</td>\n",
       "      <td>236.36</td>\n",
       "    </tr>\n",
       "    <tr>\n",
       "      <th>6</th>\n",
       "      <td>kidney</td>\n",
       "      <td>119.15</td>\n",
       "      <td>92.16</td>\n",
       "    </tr>\n",
       "    <tr>\n",
       "      <th>4</th>\n",
       "      <td>colon</td>\n",
       "      <td>51.37</td>\n",
       "      <td>48.94</td>\n",
       "    </tr>\n",
       "    <tr>\n",
       "      <th>5</th>\n",
       "      <td>rectum</td>\n",
       "      <td>49.57</td>\n",
       "      <td>22.87</td>\n",
       "    </tr>\n",
       "    <tr>\n",
       "      <th>2</th>\n",
       "      <td>lungs</td>\n",
       "      <td>48.21</td>\n",
       "      <td>24.81</td>\n",
       "    </tr>\n",
       "    <tr>\n",
       "      <th>3</th>\n",
       "      <td>pancreas</td>\n",
       "      <td>29.59</td>\n",
       "      <td>30.95</td>\n",
       "    </tr>\n",
       "    <tr>\n",
       "      <th>0</th>\n",
       "      <td>skin</td>\n",
       "      <td>9.03</td>\n",
       "      <td>2.86</td>\n",
       "    </tr>\n",
       "  </tbody>\n",
       "</table>\n",
       "</div>"
      ],
      "text/plain": [
       "  cancer_type  changes_men  changes_women\n",
       "1     thyroid       150.00         236.36\n",
       "6      kidney       119.15          92.16\n",
       "4       colon        51.37          48.94\n",
       "5      rectum        49.57          22.87\n",
       "2       lungs        48.21          24.81\n",
       "3    pancreas        29.59          30.95\n",
       "0        skin         9.03           2.86"
      ]
     },
     "execution_count": 16,
     "metadata": {},
     "output_type": "execute_result"
    }
   ],
   "source": [
    "cancer_changes_men = []\n",
    "cancer_changes_women = []\n",
    "for type in df_cancer['cancer_type'].unique():\n",
    "    before, after =df_cancer[(df_cancer['cancer_type'] == type) & (df_cancer['sex']=='men')]\\\n",
    "        .groupby('year')['cases']\\\n",
    "        .sum()\\\n",
    "        .reset_index()\\\n",
    "        .sort_values(by='year')['cases']\n",
    "    cancer_changes_men.append(round((after - before) / before * 100, 2))\n",
    "\n",
    "for type in df_cancer['cancer_type'].unique():\n",
    "    before, after =df_cancer[(df_cancer['cancer_type'] == type) & (df_cancer['sex']=='women')]\\\n",
    "        .groupby('year')['cases']\\\n",
    "        .sum()\\\n",
    "        .reset_index()\\\n",
    "        .sort_values(by='year')['cases']\n",
    "    cancer_changes_women.append(round((after - before) / before * 100, 2))\n",
    "\n",
    "changes_by_type_sex = pd.DataFrame(list(zip(cancer_type,cancer_changes_men, cancer_changes_women)),\\\n",
    "                                   columns=['cancer_type', 'changes_men','changes_women'])\\\n",
    "    .sort_values(by=['changes_men','changes_women'],axis=0,ascending=False)\n",
    "changes_by_type_sex"
   ]
  },
  {
   "cell_type": "markdown",
   "id": "bf62c35a",
   "metadata": {
    "papermill": {
     "duration": 0.010253,
     "end_time": "2022-12-02T01:10:47.191069",
     "exception": false,
     "start_time": "2022-12-02T01:10:47.180816",
     "status": "completed"
    },
    "tags": []
   },
   "source": [
    "Both sexes have the highest increase in thyroid and kidney cancers.\n",
    "In the case of thyroid cancer, women have a higher incidence rate than men.\n",
    "In the case of kidney cancer in men, a higher increase in the incidence.\n",
    "Men are more likely to get sick with all types of cancer except for thyroid cancer.\n",
    "Cases of lung cancer in men are especially prominent, I suppose that this is also due to the fact that in those years in Belarus there were much more smokers among men than among women.\n",
    "\n",
    "\n",
    "Changes by city.\n",
    "\n"
   ]
  },
  {
   "cell_type": "code",
   "execution_count": 17,
   "id": "82568cb4",
   "metadata": {
    "execution": {
     "iopub.execute_input": "2022-12-02T01:10:47.214254Z",
     "iopub.status.busy": "2022-12-02T01:10:47.213796Z",
     "iopub.status.idle": "2022-12-02T01:10:47.484415Z",
     "shell.execute_reply": "2022-12-02T01:10:47.482939Z"
    },
    "papermill": {
     "duration": 0.286079,
     "end_time": "2022-12-02T01:10:47.487756",
     "exception": false,
     "start_time": "2022-12-02T01:10:47.201677",
     "status": "completed"
    },
    "tags": []
   },
   "outputs": [
    {
     "data": {
      "image/png": "[encoded data removed]",
      "text/plain": [
       "<Figure size 648x432 with 1 Axes>"
      ]
     },
     "metadata": {},
     "output_type": "display_data"
    }
   ],
   "source": [
    "fig = plt.figure(figsize=(9, 6))\n",
    "sns.barplot(data=df_cancer, x=\"location\", y=\"cases\", hue=\"year\", estimator=np.sum, alpha=.8, ci=None, )\n",
    "plt.title('Change in the number of cases depending on the type of cancer', fontsize=14)\n",
    "plt.ylabel('cases', fontsize=12)\n",
    "\n",
    "plt.legend(loc=(1, 0), fontsize='large')\n",
    "plt.tick_params(labelsize=12)"
   ]
  },
  {
   "cell_type": "code",
   "execution_count": 18,
   "id": "c1ec49dc",
   "metadata": {
    "execution": {
     "iopub.execute_input": "2022-12-02T01:10:47.513607Z",
     "iopub.status.busy": "2022-12-02T01:10:47.513078Z",
     "iopub.status.idle": "2022-12-02T01:10:48.034832Z",
     "shell.execute_reply": "2022-12-02T01:10:48.033354Z"
    },
    "papermill": {
     "duration": 0.537966,
     "end_time": "2022-12-02T01:10:48.038069",
     "exception": false,
     "start_time": "2022-12-02T01:10:47.500103",
     "status": "completed"
    },
    "tags": []
   },
   "outputs": [
    {
     "data": {
      "text/plain": [
       "Text(0.5, 0, '')"
      ]
     },
     "execution_count": 18,
     "metadata": {},
     "output_type": "execute_result"
    },
    {
     "data": {
      "image/png": "[encoded data removed]",
      "text/plain": [
       "<Figure size 648x648 with 2 Axes>"
      ]
     },
     "metadata": {},
     "output_type": "display_data"
    }
   ],
   "source": [
    "fig, ax = plt.subplots(1, 2, sharey=True, figsize=(9, 9))\n",
    "sns.lineplot(\n",
    "    data=df_cancer[df_cancer['year'] == '1977-1985'],\n",
    "    x=\"location\", y=\"cases\", hue='cancer_type', estimator=np.sum, alpha=.7, ci=None, legend=False, ax=ax[0])\n",
    "ax[0].set_title('1977-1985', fontsize=14)\n",
    "ax[0].tick_params(labelsize=12)\n",
    "ax[0].set_xlabel(None)\n",
    "sns.lineplot(\n",
    "    data=df_cancer[df_cancer['year'] == '1986-1994'],\n",
    "    x=\"location\", y=\"cases\", hue='cancer_type', estimator=np.sum, ci=None, ax=ax[1])\n",
    "ax[1].set_title('1986-1994', fontsize=14)\n",
    "ax[1].legend(loc=(1, 0), fontsize='large')\n",
    "ax[1].tick_params(labelsize=12)\n",
    "ax[1].set_xlabel(None)"
   ]
  },
  {
   "cell_type": "code",
   "execution_count": 19,
   "id": "d1ffaad8",
   "metadata": {
    "execution": {
     "iopub.execute_input": "2022-12-02T01:10:48.065735Z",
     "iopub.status.busy": "2022-12-02T01:10:48.065253Z",
     "iopub.status.idle": "2022-12-02T01:10:48.091545Z",
     "shell.execute_reply": "2022-12-02T01:10:48.090096Z"
    },
    "papermill": {
     "duration": 0.043089,
     "end_time": "2022-12-02T01:10:48.094266",
     "exception": false,
     "start_time": "2022-12-02T01:10:48.051177",
     "status": "completed"
    },
    "tags": []
   },
   "outputs": [
    {
     "data": {
      "text/html": [
       "<div>\n",
       "<style scoped>\n",
       "    .dataframe tbody tr th:only-of-type {\n",
       "        vertical-align: middle;\n",
       "    }\n",
       "\n",
       "    .dataframe tbody tr th {\n",
       "        vertical-align: top;\n",
       "    }\n",
       "\n",
       "    .dataframe thead th {\n",
       "        text-align: right;\n",
       "    }\n",
       "</style>\n",
       "<table border=\"1\" class=\"dataframe\">\n",
       "  <thead>\n",
       "    <tr style=\"text-align: right;\">\n",
       "      <th></th>\n",
       "      <th>location</th>\n",
       "      <th>changes</th>\n",
       "    </tr>\n",
       "  </thead>\n",
       "  <tbody>\n",
       "    <tr>\n",
       "      <th>2</th>\n",
       "      <td>Belarus</td>\n",
       "      <td>42.80</td>\n",
       "    </tr>\n",
       "    <tr>\n",
       "      <th>0</th>\n",
       "      <td>Gomel</td>\n",
       "      <td>40.29</td>\n",
       "    </tr>\n",
       "    <tr>\n",
       "      <th>1</th>\n",
       "      <td>Mogilev</td>\n",
       "      <td>32.61</td>\n",
       "    </tr>\n",
       "  </tbody>\n",
       "</table>\n",
       "</div>"
      ],
      "text/plain": [
       "  location  changes\n",
       "2  Belarus    42.80\n",
       "0    Gomel    40.29\n",
       "1  Mogilev    32.61"
      ]
     },
     "execution_count": 19,
     "metadata": {},
     "output_type": "execute_result"
    }
   ],
   "source": [
    "locations = df_cancer['location'].unique()\n",
    "cancer_changes = []\n",
    "for location in df_cancer['location'].unique():\n",
    "    before, after =df_cancer[df_cancer['location'] == location]\\\n",
    "        .groupby('year')['cases']\\\n",
    "        .sum()\\\n",
    "        .reset_index()\\\n",
    "        .sort_values(by='year')['cases']\n",
    "    cancer_changes.append(round((after - before) / before * 100, 2))\n",
    "changes_by_location = pd.DataFrame(list(zip(locations, cancer_changes)), columns=['location', 'changes']).sort_values(by='changes',axis=0,ascending=False)\n",
    "changes_by_location"
   ]
  },
  {
   "cell_type": "markdown",
   "id": "0a5a55fc",
   "metadata": {
    "papermill": {
     "duration": 0.011715,
     "end_time": "2022-12-02T01:10:48.118225",
     "exception": false,
     "start_time": "2022-12-02T01:10:48.106510",
     "status": "completed"
    },
    "tags": []
   },
   "source": [
    "A noticeable increase in the incidence throughout the territory of Belarus.\n",
    "Gomel is located at a distance of 190 km from the Chernobyl nuclear power plant, Mogilev at a distance of 350 km. In Gomel, after the accident, there is a growth in the incidence, regardless of the type of cancer, relative to other regions, especially such as thyroid, skin and pancreas cancer."
   ]
  },
  {
   "cell_type": "markdown",
   "id": "defe4123",
   "metadata": {
    "papermill": {
     "duration": 0.011547,
     "end_time": "2022-12-02T01:10:48.141944",
     "exception": false,
     "start_time": "2022-12-02T01:10:48.130397",
     "status": "completed"
    },
    "tags": []
   },
   "source": [
    "# Conclusion\n",
    "\n",
    "After the accident at the Chernobyl nuclear power plant, there has been an increase in cases of cancer in Belarus.\n",
    "In general, men have a higher incidence of cancer, especially lung cancer.\n",
    "The largest increase in the incidence in such types of cancer as kidney cancer and cancer of the thyroid.\n",
    "In cities that are closer to Chernobyl, the incidence rate is higher.\n",
    "These regions have high growths in pancreas, thyroid, and skin cancers.\n",
    "\n",
    "The horrific consequences of the accident at the Chernobyl nuclear power plant once again tell us that humanity must not allow a repetition of such a scenario.\n",
    "\n"
   ]
  }
 ],
 "metadata": {
  "kernelspec": {
   "display_name": "Python 3",
   "language": "python",
   "name": "python3"
  },
  "language_info": {
   "codemirror_mode": {
    "name": "ipython",
    "version": 3
   },
   "file_extension": ".py",
   "mimetype": "text/x-python",
   "name": "python",
   "nbconvert_exporter": "python",
   "pygments_lexer": "ipython3",
   "version": "3.7.12"
  },
  "papermill": {
   "default_parameters": {},
   "duration": 14.777509,
   "end_time": "2022-12-02T01:10:49.179799",
   "environment_variables": {},
   "exception": null,
   "input_path": "__notebook__.ipynb",
   "output_path": "__notebook__.ipynb",
   "parameters": {},
   "start_time": "2022-12-02T01:10:34.402290",
   "version": "2.3.4"
  }
 },
 "nbformat": 4,
 "nbformat_minor": 5
}
